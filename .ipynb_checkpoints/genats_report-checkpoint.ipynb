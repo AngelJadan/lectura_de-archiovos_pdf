{
 "cells": [
  {
   "cell_type": "code",
   "execution_count": 53,
   "metadata": {},
   "outputs": [],
   "source": [
    "import fitz\n",
    "import csv\n",
    "import os\n",
    "import numpy as np"
   ]
  },
  {
   "cell_type": "code",
   "execution_count": 54,
   "metadata": {},
   "outputs": [
    {
     "data": {
      "text/plain": [
       "['ABRIL T.R.pdf',\n",
       " 'AGOSTO T.R.pdf',\n",
       " 'DICIEMBRE T.R.pdf',\n",
       " 'ENERO T.R.pdf',\n",
       " 'FEBRERO T.R.pdf',\n",
       " 'JULIO T.R.pdf',\n",
       " 'JUNIO T.R.pdf',\n",
       " 'MARZO T.R.pdf',\n",
       " 'MAYO T.R.pdf',\n",
       " 'NOVIEMBRE T.R.pdf',\n",
       " 'OCTUBRE T.R.pdf',\n",
       " 'SEPTIEMBRE T.R.pdf']"
      ]
     },
     "execution_count": 54,
     "metadata": {},
     "output_type": "execute_result"
    }
   ],
   "source": [
    "directorio  = \"Procesados ATS/COORPORACION CENTRO TECNOLOGICO DE LA CONSTRUCCION\"\n",
    "contenido = os.listdir(directorio)\n",
    "contenido"
   ]
  },
  {
   "cell_type": "code",
   "execution_count": 55,
   "metadata": {
    "scrolled": false
   },
   "outputs": [
    {
     "name": "stdout",
     "output_type": "stream",
     "text": [
      "Periodo: ABRIL 2020\n",
      "0.00\n",
      "Periodo: AGOSTO 2020\n",
      "0.00\n",
      "Periodo: DICIEMBRE 2020\n",
      "0.00\n",
      "Periodo: ENERO 2020\n",
      "0.00\n",
      "Periodo: FEBRERO 2020\n",
      "0.00\n",
      "Periodo: JULIO 2020\n",
      "0.00\n",
      "Periodo: JUNIO 2020\n",
      "0.00\n",
      "Periodo: MARZO 2020\n",
      "94.87\n",
      "Periodo: MAYO 2020\n",
      "0.00\n",
      "Periodo: NOVIEMBRE 2020\n",
      "0.00\n",
      "Periodo: OCTUBRE 2020\n",
      "0.00\n",
      "Periodo: SEPTIEMBRE 2020\n",
      "0.00\n",
      "94.87\n"
     ]
    }
   ],
   "source": [
    "\n",
    "v = 0\n",
    "valrtnrent = 0.00\n",
    "datos = []\n",
    "\n",
    "for arch in contenido:\n",
    "    pdf_documento = directorio+\"/\"+contenido[v]\n",
    "    \n",
    "    v+=1\n",
    "    documento = fitz.open(pdf_documento)\n",
    "    #print(\"N paginas\", documento.pageCount)\n",
    "    #print(\"Metadatos \", documento.metadata)\n",
    "    \n",
    "    \n",
    "    try:\n",
    "        pagina = documento.loadPage(0)\n",
    "        text = pagina.getText(\"Text\")\n",
    "        separador = \"\\n\"\n",
    "        separado = text.split(separador)\n",
    "        #print(separado)\n",
    "        print(separado[9])\n",
    "        mes = []\n",
    "\n",
    "        mes.append(separado[9])\n",
    "        mes.append(separado[11])\n",
    "\n",
    "        cont = 0 \n",
    "        for sep in separado:\n",
    "            if sep == \"Valor de Renta que le han retenido\":\n",
    "                valmes = separado[cont+1]\n",
    "                print(valmes)\n",
    "                mes.append(valmes)\n",
    "                datos.append(mes)\n",
    "\n",
    "                valrtnrent = valrtnrent + float(valmes)\n",
    "            #print(sep)\n",
    "            #print(cont)\n",
    "            #print(\"_________\")\n",
    "            cont=cont+1\n",
    "    except:\n",
    "        mes.append(\"Cero\")\n",
    "        datos.append(mes)\n",
    "    \n",
    "    try:\n",
    "        pagina = documento.loadPage(1)\n",
    "        text = pagina.getText(\"Text\")\n",
    "        separador = \"\\n\"\n",
    "        separado = text.split(separador)\n",
    "\n",
    "        cont = 0 \n",
    "        for sep in separado:\n",
    "            if sep == \"Valor de Renta que le han retenido\":\n",
    "                valmes = separado[cont+1]\n",
    "                print(valmes)\n",
    "                mes.append(valmes)\n",
    "\n",
    "                valrtnrent = valrtnrent + float(valmes)\n",
    "            #print(sep)\n",
    "            #print(cont)\n",
    "            #print(\"_________\")\n",
    "            cont=cont+1\n",
    "    except:\n",
    "        mes.append(\"En cero.\")\n",
    "    finally:\n",
    "        datos.append(mes)\n",
    "\n",
    "print(valrtnrent)\n",
    "tot = [\" \",\"Total\",valrtnrent]\n",
    "datos.append(tot)"
   ]
  },
  {
   "cell_type": "code",
   "execution_count": 56,
   "metadata": {},
   "outputs": [
    {
     "name": "stdout",
     "output_type": "stream",
     "text": [
      "[['Periodo: ABRIL 2020', 'Estado: CARGA DEFINITIVA', '0.00'], ['Periodo: ABRIL 2020', 'Estado: CARGA DEFINITIVA', '0.00'], ['Periodo: AGOSTO 2020', 'Estado: CARGA DEFINITIVA', '0.00'], ['Periodo: AGOSTO 2020', 'Estado: CARGA DEFINITIVA', '0.00'], ['Periodo: DICIEMBRE 2020', 'Estado: CARGA DEFINITIVA', '0.00'], ['Periodo: ENERO 2020', 'Estado: CARGA DEFINITIVA', '0.00'], ['Periodo: FEBRERO 2020', 'Estado: CARGA DEFINITIVA', '0.00'], ['Periodo: JULIO 2020', 'Estado: CARGA DEFINITIVA', '0.00'], ['Periodo: JUNIO 2020', 'Estado: CARGA DEFINITIVA', '0.00'], ['Periodo: MARZO 2020', 'Estado: CARGA DEFINITIVA', '94.87'], ['Periodo: MAYO 2020', 'Estado: CARGA DEFINITIVA', '0.00'], ['Periodo: NOVIEMBRE 2020', 'Estado: CARGA DEFINITIVA', '0.00'], ['Periodo: OCTUBRE 2020', 'Estado: CARGA DEFINITIVA', '0.00'], ['Periodo: SEPTIEMBRE 2020', 'Estado: CARGA DEFINITIVA', '0.00'], ['Total', 94.87]]\n"
     ]
    }
   ],
   "source": [
    "print(datos)"
   ]
  },
  {
   "cell_type": "code",
   "execution_count": 57,
   "metadata": {},
   "outputs": [],
   "source": [
    "import openpyxl\n",
    "wb = openpyxl.Workbook()"
   ]
  },
  {
   "cell_type": "code",
   "execution_count": 58,
   "metadata": {},
   "outputs": [],
   "source": [
    "hoja = wb.active"
   ]
  },
  {
   "cell_type": "code",
   "execution_count": 59,
   "metadata": {},
   "outputs": [],
   "source": [
    "for producto in datos:\n",
    "    # producto es una tupla con los valores de un producto \n",
    "    hoja.append(producto)"
   ]
  },
  {
   "cell_type": "code",
   "execution_count": 60,
   "metadata": {},
   "outputs": [],
   "source": [
    "wb.save(directorio+'/Reportes_ats.xlsx')"
   ]
  },
  {
   "cell_type": "code",
   "execution_count": null,
   "metadata": {},
   "outputs": [],
   "source": []
  }
 ],
 "metadata": {
  "kernelspec": {
   "display_name": "Python 3",
   "language": "python",
   "name": "python3"
  },
  "language_info": {
   "codemirror_mode": {
    "name": "ipython",
    "version": 3
   },
   "file_extension": ".py",
   "mimetype": "text/x-python",
   "name": "python",
   "nbconvert_exporter": "python",
   "pygments_lexer": "ipython3",
   "version": "3.8.3"
  }
 },
 "nbformat": 4,
 "nbformat_minor": 4
}
