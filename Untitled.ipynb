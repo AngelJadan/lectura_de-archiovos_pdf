{
 "cells": [
  {
   "cell_type": "code",
   "execution_count": 2,
   "metadata": {},
   "outputs": [],
   "source": [
    "import openpyxl\n",
    "wb = openpyxl.Workbook()"
   ]
  },
  {
   "cell_type": "code",
   "execution_count": 3,
   "metadata": {},
   "outputs": [
    {
     "name": "stdout",
     "output_type": "stream",
     "text": [
      "Hoja activa: Sheet\n"
     ]
    }
   ],
   "source": [
    "hoja = wb.active\n",
    "print(f\"Hoja activa: {hoja.title}\")"
   ]
  },
  {
   "cell_type": "code",
   "execution_count": 5,
   "metadata": {},
   "outputs": [
    {
     "name": "stdout",
     "output_type": "stream",
     "text": [
      "Hoja activa: Valores\n"
     ]
    }
   ],
   "source": [
    "hoja.title = 'Valores'\n",
    "print(f\"Hoja activa: {wb.active.title}\")"
   ]
  },
  {
   "cell_type": "code",
   "execution_count": 9,
   "metadata": {},
   "outputs": [],
   "source": [
    "productos = [\n",
    "    ('producto_1', 'a859', 1500, 9.95),\n",
    "    ('producto_2', 'b125', 600, 4.95),\n",
    "    ('producto_3', 'c764', 200, 19.95),\n",
    "    ('producto_4', 'd399', 2000, 49.95)\n",
    "]"
   ]
  },
  {
   "cell_type": "code",
   "execution_count": 10,
   "metadata": {},
   "outputs": [],
   "source": [
    "wb = openpyxl.Workbook()\n",
    "hoja = wb.active"
   ]
  },
  {
   "cell_type": "code",
   "execution_count": 11,
   "metadata": {},
   "outputs": [],
   "source": [
    "# Crea la fila del encabezado con los títulos\n",
    "hoja.append(('Nombre', 'Referencia', 'Stock', 'Precio'))\n",
    "for producto in productos:\n",
    "    # producto es una tupla con los valores de un producto \n",
    "    hoja.append(producto)"
   ]
  },
  {
   "cell_type": "code",
   "execution_count": 12,
   "metadata": {},
   "outputs": [],
   "source": [
    "wb.save('productos.xlsx')"
   ]
  },
  {
   "cell_type": "code",
   "execution_count": null,
   "metadata": {},
   "outputs": [],
   "source": []
  }
 ],
 "metadata": {
  "kernelspec": {
   "display_name": "Python 3",
   "language": "python",
   "name": "python3"
  },
  "language_info": {
   "codemirror_mode": {
    "name": "ipython",
    "version": 3
   },
   "file_extension": ".py",
   "mimetype": "text/x-python",
   "name": "python",
   "nbconvert_exporter": "python",
   "pygments_lexer": "ipython3",
   "version": "3.8.3"
  }
 },
 "nbformat": 4,
 "nbformat_minor": 4
}
